{
 "cells": [
  {
   "cell_type": "code",
   "execution_count": 1,
   "id": "55d10b09",
   "metadata": {},
   "outputs": [],
   "source": [
    "import torch\n",
    "from model import UNet"
   ]
  },
  {
   "cell_type": "markdown",
   "id": "9c86adb7",
   "metadata": {},
   "source": [
    "## 1. Initialize PyTorch model (Choroidalyzer)"
   ]
  },
  {
   "cell_type": "code",
   "execution_count": 2,
   "id": "2b17a143",
   "metadata": {},
   "outputs": [
    {
     "data": {
      "text/plain": [
       "UNet(\n",
       "  (in_conv): ConvNormAct(\n",
       "    (conv): Conv2d(1, 8, kernel_size=(3, 3), stride=(1, 1), padding=(1, 1))\n",
       "    (norm): BatchNorm2d(8, eps=1e-05, momentum=0.1, affine=True, track_running_stats=True)\n",
       "    (act): ReLU()\n",
       "  )\n",
       "  (down_blocks): ModuleList(\n",
       "    (0): DownBlock(8->16)\n",
       "    (1): DownBlock(16->32)\n",
       "    (2): DownBlock(32->64)\n",
       "    (3-6): 4 x DownBlock(64->64)\n",
       "  )\n",
       "  (up_blocks): ModuleList(\n",
       "    (0-3): 4 x UpBlock(conv_then_interpolate, 64->64)\n",
       "    (4): UpBlock(conv_then_interpolate, 64->32)\n",
       "    (5): UpBlock(conv_then_interpolate, 32->16)\n",
       "    (6): UpBlock(conv_then_interpolate, 16->8)\n",
       "  )\n",
       "  (out_conv): Sequential(\n",
       "    (0): ConvNormAct(\n",
       "      (conv): Conv2d(8, 8, kernel_size=(3, 3), stride=(1, 1), padding=(1, 1))\n",
       "      (norm): BatchNorm2d(8, eps=1e-05, momentum=0.1, affine=True, track_running_stats=True)\n",
       "      (act): ReLU()\n",
       "    )\n",
       "    (1): Conv2d(8, 3, kernel_size=(1, 1), stride=(1, 1))\n",
       "  )\n",
       ")"
      ]
     },
     "execution_count": 2,
     "metadata": {},
     "output_type": "execute_result"
    }
   ],
   "source": [
    "model = UNet(in_channels=1, out_channels=3, depth=7, channels='8_doublemax-64', up_type='conv_then_interpolate', extra_out_conv=True)\n",
    "\n",
    "# Download weights from github\n",
    "DEFAULT_MODEL_URL = 'https://github.com/justinengelmann/Choroidalyzer/releases/download/v1.0/choroidalyzer_model_weights.pth'\n",
    "state_dict = torch.hub.load_state_dict_from_url(DEFAULT_MODEL_URL, map_location='cpu')\n",
    "model.load_state_dict(state_dict)\n",
    "\n",
    "model.eval()\n",
    "model.to('cpu')"
   ]
  },
  {
   "cell_type": "markdown",
   "id": "e5dbd938",
   "metadata": {},
   "source": [
    "## 2. Convert to ONNX"
   ]
  },
  {
   "cell_type": "markdown",
   "id": "8f313efd",
   "metadata": {},
   "source": [
    "See more at https://docs.pytorch.org/tutorials/beginner/onnx/export_simple_model_to_onnx_tutorial.html"
   ]
  },
  {
   "cell_type": "markdown",
   "id": "5416196d",
   "metadata": {},
   "source": [
    "### 2A. Initialize & Preprocess Example Inputs\n",
    "To export the model to ONNX format, we have to provide an example input for PyTorch to trace the NN graph. So, we load an example choroidalyzer image here and preprocess it. Generally, the example input values doesn't really matter, and it's mostly the **example input shape** that is important when performing ONNX export."
   ]
  },
  {
   "cell_type": "code",
   "execution_count": 3,
   "id": "6a35115d",
   "metadata": {},
   "outputs": [],
   "source": [
    "from torchvision.transforms import v2 as T\n",
    "from torchvision import tv_tensors\n",
    "from torchvision.io import decode_image, ImageReadMode"
   ]
  },
  {
   "cell_type": "code",
   "execution_count": 4,
   "id": "20482f18",
   "metadata": {},
   "outputs": [
    {
     "data": {
      "text/plain": [
       "torch.Size([1, 768, 768])"
      ]
     },
     "execution_count": 4,
     "metadata": {},
     "output_type": "execute_result"
    }
   ],
   "source": [
    "img = decode_image('./example_data/image1.png', mode=ImageReadMode.GRAY)\n",
    "if img.ndim == 2: # add dummy channel dim if needed\n",
    "    img = img.unsqueeze(0)\n",
    "img.shape"
   ]
  },
  {
   "cell_type": "code",
   "execution_count": 5,
   "id": "75fa4cd4",
   "metadata": {},
   "outputs": [
    {
     "data": {
      "text/plain": [
       "torch.Size([1, 1, 768, 768])"
      ]
     },
     "execution_count": 5,
     "metadata": {},
     "output_type": "execute_result"
    }
   ],
   "source": [
    "def get_default_img_transforms():\n",
    "    return T.Compose([\n",
    "        T.ToDtype(torch.float32, scale=True),\n",
    "        T.Normalize(mean=(0.5,), std=(0.5,)),\n",
    "    ])\n",
    "example_inputs = tv_tensors.Image(img)\n",
    "example_inputs = get_default_img_transforms()(example_inputs)\n",
    "example_inputs = example_inputs.unsqueeze(0)\n",
    "example_inputs.shape"
   ]
  },
  {
   "cell_type": "code",
   "execution_count": 6,
   "id": "61e0b610",
   "metadata": {},
   "outputs": [
    {
     "data": {
      "text/plain": [
       "tensor([[[[-7.1774, -6.8285, -7.2596,  ..., -7.2578, -6.8562, -6.4384],\n",
       "          [-7.5012, -8.2761, -8.4533,  ..., -7.6219, -7.3928, -6.4709],\n",
       "          [-8.1005, -8.4176, -8.7058,  ..., -8.0664, -8.0312, -6.5820],\n",
       "          ...,\n",
       "          [-7.5847, -7.5296, -7.6107,  ..., -7.8909, -7.8586, -6.6194],\n",
       "          [-7.4439, -7.1894, -7.2697,  ..., -7.8515, -7.5879, -6.6249],\n",
       "          [-7.0515, -7.0758, -7.2920,  ..., -7.4256, -7.3977, -7.2482]],\n",
       "\n",
       "         [[-8.3682, -7.9248, -8.1511,  ..., -8.6162, -8.0813, -7.8296],\n",
       "          [-7.9580, -8.2148, -8.2572,  ..., -8.1292, -8.0913, -7.6599],\n",
       "          [-8.7024, -8.3568, -8.4323,  ..., -8.5633, -8.4517, -7.5138],\n",
       "          ...,\n",
       "          [-8.6128, -8.2900, -8.0733,  ..., -8.5177, -8.3947, -7.8836],\n",
       "          [-8.3639, -7.9682, -8.0582,  ..., -8.4796, -7.8353, -7.3938],\n",
       "          [-8.1591, -8.0176, -8.1776,  ..., -8.2127, -7.9474, -8.5317]],\n",
       "\n",
       "         [[-4.4415, -4.4523, -4.6156,  ..., -4.7791, -4.6205, -4.2094],\n",
       "          [-4.6948, -5.6250, -5.6648,  ..., -5.1625, -5.3686, -4.7212],\n",
       "          [-5.1477, -5.9019, -6.0420,  ..., -5.4717, -5.5748, -4.6603],\n",
       "          ...,\n",
       "          [-4.6980, -4.8754, -4.7482,  ..., -5.0927, -5.4880, -4.8305],\n",
       "          [-4.5745, -4.7325, -4.7696,  ..., -5.4082, -5.3938, -4.8143],\n",
       "          [-4.5219, -4.7095, -4.7793,  ..., -5.0793, -5.0374, -4.8484]]]],\n",
       "       grad_fn=<ConvolutionBackward0>)"
      ]
     },
     "execution_count": 6,
     "metadata": {},
     "output_type": "execute_result"
    }
   ],
   "source": [
    "# Run model inference to make sure everything works\n",
    "model(example_inputs)"
   ]
  },
  {
   "cell_type": "markdown",
   "id": "f8d30d39",
   "metadata": {},
   "source": [
    "### 2B. Convert PyTorch Model to ONNX"
   ]
  },
  {
   "cell_type": "code",
   "execution_count": 7,
   "id": "232c5b64",
   "metadata": {},
   "outputs": [],
   "source": [
    "import onnx, onnxscript"
   ]
  },
  {
   "cell_type": "code",
   "execution_count": 8,
   "id": "658625f8",
   "metadata": {},
   "outputs": [
    {
     "name": "stderr",
     "output_type": "stream",
     "text": [
      "/Users/raj/code/miniconda3/envs/imind_cnn_app/lib/python3.11/site-packages/onnxscript/converter.py:816: FutureWarning: 'onnxscript.values.Op.param_schemas' is deprecated in version 0.1 and will be removed in the future. Please use '.op_signature' instead.\n",
      "  param_schemas = callee.param_schemas()\n",
      "/Users/raj/code/miniconda3/envs/imind_cnn_app/lib/python3.11/site-packages/onnxscript/converter.py:816: FutureWarning: 'onnxscript.values.OnnxFunction.param_schemas' is deprecated in version 0.1 and will be removed in the future. Please use '.op_signature' instead.\n",
      "  param_schemas = callee.param_schemas()\n"
     ]
    },
    {
     "name": "stdout",
     "output_type": "stream",
     "text": [
      "[torch.onnx] Obtain model graph for `UNet([...]` with `torch.export.export(..., strict=False)`...\n",
      "[torch.onnx] Obtain model graph for `UNet([...]` with `torch.export.export(..., strict=False)`... ✅\n",
      "[torch.onnx] Run decomposition...\n",
      "[torch.onnx] Run decomposition... ✅\n",
      "[torch.onnx] Translate the graph into ONNX...\n",
      "[torch.onnx] Translate the graph into ONNX... ✅\n"
     ]
    }
   ],
   "source": [
    "# Create ONNX representation of model\n",
    "onnx_program = torch.onnx.export(model, example_inputs, dynamo=True)"
   ]
  },
  {
   "cell_type": "code",
   "execution_count": 9,
   "id": "de7f4745",
   "metadata": {},
   "outputs": [],
   "source": [
    "# (Optional) in-place optimization of ONNX graph\n",
    "onnx_program.optimize()"
   ]
  },
  {
   "cell_type": "code",
   "execution_count": 10,
   "id": "9b95b90a",
   "metadata": {},
   "outputs": [],
   "source": [
    "# Save ONNX file\n",
    "ONNX_FILENAME = \"choroidalyzer.onnx\"\n",
    "onnx_program.save(ONNX_FILENAME)"
   ]
  },
  {
   "cell_type": "code",
   "execution_count": 11,
   "id": "e200c0e1",
   "metadata": {},
   "outputs": [],
   "source": [
    "# Load ONNX file & check basic validity\n",
    "onnx_model = onnx.load(ONNX_FILENAME)\n",
    "onnx.checker.check_model(onnx_model)"
   ]
  },
  {
   "cell_type": "markdown",
   "id": "76f23a14",
   "metadata": {},
   "source": [
    "## 3. Perform Inference w/ ONNX"
   ]
  },
  {
   "cell_type": "code",
   "execution_count": 12,
   "id": "f59ad6ef",
   "metadata": {},
   "outputs": [],
   "source": [
    "import onnxruntime as ort\n",
    "import numpy as np\n",
    "from matplotlib import pyplot as plt\n",
    "\n",
    "session = ort.InferenceSession(ONNX_FILENAME, providers=['CPUExecutionProvider'])\n",
    "input_name = session.get_inputs()[0].name\n",
    "raw_preds = session.run(None, {input_name: example_inputs.numpy()})[0]\n",
    "\n",
    "# Run sigmoid on raw ONNX output (could do this manually/without pytorch, if desired!)\n",
    "sigmoided_preds = torch.from_numpy(raw_preds).squeeze(0).sigmoid().cpu().numpy()"
   ]
  },
  {
   "cell_type": "code",
   "execution_count": 13,
   "id": "d56da628",
   "metadata": {},
   "outputs": [],
   "source": [
    "# Calculate masks based on thresholds\n",
    "DEFAULT_THRESHOLDS = (0.5, 0.5, 0.1)\n",
    "thresholds = DEFAULT_THRESHOLDS\n",
    "region_mask = sigmoided_preds[0] >= thresholds[0]\n",
    "vessel_mask = sigmoided_preds[1] >= thresholds[1]"
   ]
  },
  {
   "cell_type": "code",
   "execution_count": 14,
   "id": "76c9b348",
   "metadata": {},
   "outputs": [
    {
     "data": {
      "text/plain": [
       "<matplotlib.image.AxesImage at 0x31e262810>"
      ]
     },
     "execution_count": 14,
     "metadata": {},
     "output_type": "execute_result"
    },
    {
     "data": {
      "image/png": "[encoded data removed]",
      "text/plain": [
       "<Figure size 1000x1000 with 3 Axes>"
      ]
     },
     "metadata": {},
     "output_type": "display_data"
    }
   ],
   "source": [
    "fig, axes = plt.subplots(1, 3, figsize=(10, 10))\n",
    "\n",
    "axes[0].set_title('Original Image')\n",
    "axes[0].imshow(img.permute(1, 2, 0), cmap='gray')\n",
    "\n",
    "axes[1].set_title('Region')\n",
    "axes[1].imshow(region_mask, cmap='gray')\n",
    "\n",
    "axes[2].set_title('Vessel')\n",
    "axes[2].imshow(vessel_mask, cmap='gray')"
   ]
  },
  {
   "cell_type": "markdown",
   "id": "2bdb1c29",
   "metadata": {},
   "source": [
    "## All Done!\n",
    "You can also try out https://netron.app to visualize the architecure of the exported ONNX model and verify that it is as expected."
   ]
  }
 ],
 "metadata": {
  "kernelspec": {
   "display_name": "imind_cnn_app",
   "language": "python",
   "name": "python3"
  },
  "language_info": {
   "codemirror_mode": {
    "name": "ipython",
    "version": 3
   },
   "file_extension": ".py",
   "mimetype": "text/x-python",
   "name": "python",
   "nbconvert_exporter": "python",
   "pygments_lexer": "ipython3",
   "version": "3.11.4"
  }
 },
 "nbformat": 4,
 "nbformat_minor": 5
}
